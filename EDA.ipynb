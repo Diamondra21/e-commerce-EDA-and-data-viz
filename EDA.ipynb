{
 "cells": [
  {
   "cell_type": "code",
   "execution_count": null,
   "id": "eaaf5cd0",
   "metadata": {},
   "outputs": [],
   "source": [
    "pip install pyspark"
   ]
  },
  {
   "cell_type": "code",
   "execution_count": null,
   "id": "7e413aa6",
   "metadata": {},
   "outputs": [],
   "source": [
    "from pyspark.sql import SparkSession\n",
    "from pyspark.sql.functions  import *"
   ]
  },
  {
   "cell_type": "code",
   "execution_count": 3,
   "id": "b00d679f",
   "metadata": {},
   "outputs": [],
   "source": [
    "# creating a Spark session\n",
    "spark = SparkSession.builder.master('local[*]').appName('E-commerce').getOrCreate()\n"
   ]
  },
  {
   "cell_type": "code",
   "execution_count": 4,
   "id": "7aaeae14",
   "metadata": {},
   "outputs": [
    {
     "data": {
      "text/html": [
       "\n",
       "            <div>\n",
       "                <p><b>SparkSession - in-memory</b></p>\n",
       "                \n",
       "        <div>\n",
       "            <p><b>SparkContext</b></p>\n",
       "\n",
       "            <p><a href=\"http://LAPTOP-F5JM9F94:4040\">Spark UI</a></p>\n",
       "\n",
       "            <dl>\n",
       "              <dt>Version</dt>\n",
       "                <dd><code>v3.3.1</code></dd>\n",
       "              <dt>Master</dt>\n",
       "                <dd><code>local[*]</code></dd>\n",
       "              <dt>AppName</dt>\n",
       "                <dd><code>E-commerce</code></dd>\n",
       "            </dl>\n",
       "        </div>\n",
       "        \n",
       "            </div>\n",
       "        "
      ],
      "text/plain": [
       "<pyspark.sql.session.SparkSession at 0x237f78c5b50>"
      ]
     },
     "execution_count": 4,
     "metadata": {},
     "output_type": "execute_result"
    }
   ],
   "source": [
    "spark"
   ]
  },
  {
   "cell_type": "markdown",
   "id": "afdba128",
   "metadata": {},
   "source": [
    "# Data preparation"
   ]
  },
  {
   "cell_type": "code",
   "execution_count": null,
   "id": "28fecb3e",
   "metadata": {},
   "outputs": [],
   "source": [
    "# loading the dataset\n",
    "df = spark.read.csv(r\"2019-Nov.csv\",header=True, inferSchema=True)\n"
   ]
  },
  {
   "cell_type": "code",
   "execution_count": 6,
   "id": "5ffa2008",
   "metadata": {},
   "outputs": [
    {
     "name": "stdout",
     "output_type": "stream",
     "text": [
      "root\n",
      " |-- event_time: timestamp (nullable = true)\n",
      " |-- event_type: string (nullable = true)\n",
      " |-- product_id: integer (nullable = true)\n",
      " |-- category_id: long (nullable = true)\n",
      " |-- category_code: string (nullable = true)\n",
      " |-- brand: string (nullable = true)\n",
      " |-- price: double (nullable = true)\n",
      " |-- user_id: integer (nullable = true)\n",
      " |-- user_session: string (nullable = true)\n",
      "\n"
     ]
    }
   ],
   "source": [
    "# inspect the schema\n",
    "df.printSchema()"
   ]
  },
  {
   "cell_type": "code",
   "execution_count": 5,
   "id": "22ce73f1",
   "metadata": {},
   "outputs": [
    {
     "name": "stdout",
     "output_type": "stream",
     "text": [
      "+-------------------+----------+----------+-------------------+--------------------+------+------+---------+--------------------+\n",
      "|         event_time|event_type|product_id|        category_id|       category_code| brand| price|  user_id|        user_session|\n",
      "+-------------------+----------+----------+-------------------+--------------------+------+------+---------+--------------------+\n",
      "|2019-11-01 01:00:00|      view|   1003461|2053013555631882655|electronics.smart...|xiaomi|489.07|520088904|4d3b30da-a5e4-49d...|\n",
      "|2019-11-01 01:00:00|      view|   5000088|2053013566100866035|appliances.sewing...|janome|293.65|530496790|8e5f4f83-366c-4f7...|\n",
      "|2019-11-01 01:00:01|      view|  17302664|2053013553853497655|                null| creed| 28.31|561587266|755422e7-9040-477...|\n",
      "|2019-11-01 01:00:01|      view|   3601530|2053013563810775923|appliances.kitche...|    lg|712.87|518085591|3bfb58cd-7892-48c...|\n",
      "|2019-11-01 01:00:01|      view|   1004775|2053013555631882655|electronics.smart...|xiaomi|183.27|558856683|313628f1-68b8-460...|\n",
      "+-------------------+----------+----------+-------------------+--------------------+------+------+---------+--------------------+\n",
      "only showing top 5 rows\n",
      "\n"
     ]
    }
   ],
   "source": [
    "# checking the 5 first rows\n",
    "df.show(5)"
   ]
  },
  {
   "cell_type": "code",
   "execution_count": 5,
   "id": "1c35bd39",
   "metadata": {},
   "outputs": [],
   "source": [
    "# removing duplicate rows\n",
    "df = df.dropDuplicates()"
   ]
  },
  {
   "cell_type": "code",
   "execution_count": 7,
   "id": "c9011adf",
   "metadata": {},
   "outputs": [
    {
     "data": {
      "text/plain": [
       "67401460"
      ]
     },
     "execution_count": 7,
     "metadata": {},
     "output_type": "execute_result"
    }
   ],
   "source": [
    "# number of rows\n",
    "df.count()"
   ]
  },
  {
   "cell_type": "code",
   "execution_count": 10,
   "id": "3ccd4815",
   "metadata": {},
   "outputs": [
    {
     "name": "stdout",
     "output_type": "stream",
     "text": [
      "+----------+----------+----------+-----------+-------------+-------+-----+-------+------------+\n",
      "|event_time|event_type|product_id|category_id|category_code|  brand|price|user_id|user_session|\n",
      "+----------+----------+----------+-----------+-------------+-------+-----+-------+------------+\n",
      "|         0|         0|         0|          0|     21871423|9209177|    0|      0|          10|\n",
      "+----------+----------+----------+-----------+-------------+-------+-----+-------+------------+\n",
      "\n"
     ]
    }
   ],
   "source": [
    "# number of null values in each column\n",
    "df.select(*(sum(col(c).isNull().cast(\"int\")).alias(c) for c in df.columns)).show()"
   ]
  },
  {
   "cell_type": "markdown",
   "id": "2dc1e391",
   "metadata": {},
   "source": [
    "# Feature engineering"
   ]
  },
  {
   "cell_type": "code",
   "execution_count": 8,
   "id": "1814d1b7",
   "metadata": {},
   "outputs": [],
   "source": [
    "# creating new sub-categories columns based on the column 'category_code'\n",
    "df = df.withColumn('main_category', split(df['category_code'], '[.]').getItem(0)).withColumn('second_category', split(df['category_code'], '[.]').getItem(1)).withColumn('third_category', split(df['category_code'], '[.]').getItem(2)).withColumn('fourth_category', split(df['category_code'], '[.]').getItem(3)).withColumn('fifth_category', split(df['category_code'], '[.]').getItem(4))"
   ]
  },
  {
   "cell_type": "code",
   "execution_count": 9,
   "id": "d7a890bf",
   "metadata": {},
   "outputs": [
    {
     "name": "stdout",
     "output_type": "stream",
     "text": [
      "+---------------------------------+-------------+---------------+--------------+---------------+--------------+\n",
      "|category_code                    |main_category|second_category|third_category|fourth_category|fifth_category|\n",
      "+---------------------------------+-------------+---------------+--------------+---------------+--------------+\n",
      "|null                             |null         |null           |null          |null           |null          |\n",
      "|null                             |null         |null           |null          |null           |null          |\n",
      "|kids.toys                        |kids         |toys           |null          |null           |null          |\n",
      "|electronics.smartphone           |electronics  |smartphone     |null          |null           |null          |\n",
      "|electronics.smartphone           |electronics  |smartphone     |null          |null           |null          |\n",
      "|electronics.smartphone           |electronics  |smartphone     |null          |null           |null          |\n",
      "|electronics.smartphone           |electronics  |smartphone     |null          |null           |null          |\n",
      "|electronics.video.tv             |electronics  |video          |tv            |null           |null          |\n",
      "|apparel.shoes                    |apparel      |shoes          |null          |null           |null          |\n",
      "|electronics.video.tv             |electronics  |video          |tv            |null           |null          |\n",
      "|electronics.smartphone           |electronics  |smartphone     |null          |null           |null          |\n",
      "|electronics.smartphone           |electronics  |smartphone     |null          |null           |null          |\n",
      "|electronics.smartphone           |electronics  |smartphone     |null          |null           |null          |\n",
      "|appliances.environment.air_heater|appliances   |environment    |air_heater    |null           |null          |\n",
      "|electronics.smartphone           |electronics  |smartphone     |null          |null           |null          |\n",
      "|electronics.smartphone           |electronics  |smartphone     |null          |null           |null          |\n",
      "|electronics.video.tv             |electronics  |video          |tv            |null           |null          |\n",
      "|electronics.smartphone           |electronics  |smartphone     |null          |null           |null          |\n",
      "|furniture.living_room.sofa       |furniture    |living_room    |sofa          |null           |null          |\n",
      "|electronics.audio.headphone      |electronics  |audio          |headphone     |null           |null          |\n",
      "+---------------------------------+-------------+---------------+--------------+---------------+--------------+\n",
      "only showing top 20 rows\n",
      "\n"
     ]
    }
   ],
   "source": [
    "df[[\"category_code\",\"main_category\",\"second_category\",\"third_category\",\"fourth_category\",\"fifth_category\"]].show(truncate=False)"
   ]
  },
  {
   "cell_type": "code",
   "execution_count": 12,
   "id": "09a2c6d3",
   "metadata": {},
   "outputs": [
    {
     "name": "stdout",
     "output_type": "stream",
     "text": [
      "+---------------+--------+\n",
      "|fourth_category|   count|\n",
      "+---------------+--------+\n",
      "|           null|67338202|\n",
      "|          piano|   63258|\n",
      "+---------------+--------+\n",
      "\n"
     ]
    }
   ],
   "source": [
    "# inspecting 'fourth_category' and 'fifth_category'\n",
    "df.groupBy('fourth_category').count().show()"
   ]
  },
  {
   "cell_type": "code",
   "execution_count": 13,
   "id": "970642ab",
   "metadata": {},
   "outputs": [
    {
     "name": "stdout",
     "output_type": "stream",
     "text": [
      "+--------------+--------+\n",
      "|fifth_category|   count|\n",
      "+--------------+--------+\n",
      "|          null|67401460|\n",
      "+--------------+--------+\n",
      "\n"
     ]
    }
   ],
   "source": [
    "df.groupBy('fifth_category').count().show()"
   ]
  },
  {
   "cell_type": "code",
   "execution_count": 9,
   "id": "d1185e39",
   "metadata": {},
   "outputs": [],
   "source": [
    "df = df.drop('fifth_category')"
   ]
  },
  {
   "cell_type": "code",
   "execution_count": 10,
   "id": "4f62e51f",
   "metadata": {},
   "outputs": [],
   "source": [
    "# number of views of each product\n",
    "\n",
    "df_number_views = df.select('product_id').filter(df['event_type']==\"view\").groupBy('product_id').agg(count('product_id').alias('number_views'))\n",
    "#df_number_views.show(5)\n",
    "df = df.join(df_number_views, df.product_id == df_number_views.product_id).select(df[\"*\"],df_number_views[\"number_views\"])\n",
    "#df.show(5)"
   ]
  },
  {
   "cell_type": "code",
   "execution_count": 11,
   "id": "20e99099",
   "metadata": {},
   "outputs": [],
   "source": [
    "# number of purchases of each product\n",
    "\n",
    "df_number_purchases = df.select('product_id').filter(df['event_type']==\"purchase\").groupBy('product_id').agg(count('product_id').alias('number_purchases'))\n",
    "#df_number_purchases.show(5)\n",
    "df = df.join(df_number_purchases, df.product_id == df_number_purchases.product_id).select(df[\"*\"],df_number_purchases[\"number_purchases\"])\n",
    "#df.show(5)"
   ]
  },
  {
   "cell_type": "code",
   "execution_count": 13,
   "id": "867ba2e6",
   "metadata": {},
   "outputs": [],
   "source": [
    "# conversion rate of each product\n",
    "\n",
    "df = df.withColumn(\"conversion_rate\", df.number_purchases/df.number_views) \n"
   ]
  },
  {
   "cell_type": "code",
   "execution_count": 12,
   "id": "ba8c9ab0",
   "metadata": {},
   "outputs": [],
   "source": [
    "# saving the new data file\n",
    "df.repartition(1).write.format(\"com.databricks.spark.csv\").option(\"header\", \"true\").save(\"mydata2.csv\")"
   ]
  },
  {
   "cell_type": "markdown",
   "id": "a6f24a9e",
   "metadata": {},
   "source": [
    "# Exploratory data analysis"
   ]
  },
  {
   "cell_type": "code",
   "execution_count": 14,
   "id": "5f2f2d6f",
   "metadata": {},
   "outputs": [],
   "source": [
    "# creating a new relational model for the data\n",
    "\n",
    "# products table\n",
    "products = df[['product_id','category_id','main_category','second_category','third_category','fourth_category','brand','price','number_views','number_purchases',\"conversion_rate\"]].drop_duplicates()\n",
    "\n",
    "# user_sessions table\n",
    "user_sessions = df[['user_session','user_id']].drop_duplicates()\n",
    "\n",
    "# events table\n",
    "events = df[['event_time','event_type','product_id','user_session']].drop_duplicates()"
   ]
  },
  {
   "cell_type": "code",
   "execution_count": null,
   "id": "4a541b7e",
   "metadata": {},
   "outputs": [],
   "source": [
    "# saving the data files of the new relational model\n",
    "products.repartition(1).write.format(\"com.databricks.spark.csv\").option(\"header\", \"true\").save(\"products.csv\")\n",
    "user_sessions.repartition(1).write.format(\"com.databricks.spark.csv\").option(\"header\", \"true\").save(\"user_sessions.csv\")\n",
    "events.repartition(1).write.format(\"com.databricks.spark.csv\").option(\"header\", \"true\").save(\"events.csv\")"
   ]
  },
  {
   "cell_type": "code",
   "execution_count": 15,
   "id": "8a3d702e",
   "metadata": {},
   "outputs": [
    {
     "name": "stdout",
     "output_type": "stream",
     "text": [
      "3521766\n"
     ]
    }
   ],
   "source": [
    "# number of clients\n",
    "number_clients = user_sessions.select(countDistinct(\"user_id\")).collect()[0][0]\n",
    "print(number_clients)\n"
   ]
  },
  {
   "cell_type": "code",
   "execution_count": 48,
   "id": "adb14414",
   "metadata": {},
   "outputs": [
    {
     "name": "stdout",
     "output_type": "stream",
     "text": [
      "13002010\n"
     ]
    }
   ],
   "source": [
    "# number of store sessions\n",
    "number_sessions = user_sessions.select(countDistinct(\"user_session\")).collect()[0][0]\n",
    "print(number_sessions)\n"
   ]
  },
  {
   "cell_type": "code",
   "execution_count": 42,
   "id": "71763707",
   "metadata": {},
   "outputs": [
    {
     "name": "stdout",
     "output_type": "stream",
     "text": [
      "+----------+--------+\n",
      "|event_type|   count|\n",
      "+----------+--------+\n",
      "|  purchase|  916939|\n",
      "|      view|56973940|\n",
      "|      cart| 2954620|\n",
      "+----------+--------+\n",
      "\n"
     ]
    }
   ],
   "source": [
    "# count of each event related to the users\n",
    "df.groupBy('event_type').count().show()"
   ]
  },
  {
   "cell_type": "code",
   "execution_count": 16,
   "id": "16d1dc60",
   "metadata": {},
   "outputs": [],
   "source": [
    "# creating views of the data to use SQL queries\n",
    "products.createOrReplaceTempView(\"df\")\n",
    "products.createOrReplaceTempView(\"products\")\n",
    "user_sessions.createOrReplaceTempView(\"user_sessions\")\n",
    "events.createOrReplaceTempView(\"events\")"
   ]
  },
  {
   "cell_type": "code",
   "execution_count": 10,
   "id": "e730fec7",
   "metadata": {},
   "outputs": [
    {
     "name": "stdout",
     "output_type": "stream",
     "text": [
      "+--------------------+\n",
      "|number_main_category|\n",
      "+--------------------+\n",
      "|                  13|\n",
      "+--------------------+\n",
      "\n"
     ]
    }
   ],
   "source": [
    "# number of main categories of product\n",
    "spark.sql('SELECT COUNT(DISTINCT main_category) AS number_main_category FROM products').show()"
   ]
  },
  {
   "cell_type": "markdown",
   "id": "995b2ab8",
   "metadata": {},
   "source": [
    "# What are the 10 most represented product categories ?"
   ]
  },
  {
   "cell_type": "code",
   "execution_count": 11,
   "id": "ffee0205",
   "metadata": {},
   "outputs": [
    {
     "name": "stdout",
     "output_type": "stream",
     "text": [
      "+-------------+-------------------+\n",
      "|main_category|count_main_category|\n",
      "+-------------+-------------------+\n",
      "|  electronics|              43004|\n",
      "|   appliances|              41750|\n",
      "|    computers|              26636|\n",
      "|      apparel|              19849|\n",
      "| construction|              17278|\n",
      "|    furniture|              13794|\n",
      "|         kids|              11275|\n",
      "|  accessories|               4533|\n",
      "|         auto|               3999|\n",
      "|        sport|               3361|\n",
      "+-------------+-------------------+\n",
      "only showing top 10 rows\n",
      "\n"
     ]
    }
   ],
   "source": [
    "spark.sql('''\n",
    "select\n",
    "  main_category, count(main_category) AS count_main_category\n",
    "from products\n",
    "group by main_category\n",
    "ORDER BY count_main_category  DESC\n",
    "''').show(10)"
   ]
  },
  {
   "cell_type": "markdown",
   "id": "266b7d9e",
   "metadata": {},
   "source": [
    "# What are the 10 most represented product brands ?"
   ]
  },
  {
   "cell_type": "code",
   "execution_count": 41,
   "id": "53df0caf",
   "metadata": {},
   "outputs": [
    {
     "name": "stdout",
     "output_type": "stream",
     "text": [
      "+-------+-----------+\n",
      "|  brand|count_brand|\n",
      "+-------+-----------+\n",
      "|samsung|       5327|\n",
      "| xiaomi|       4658|\n",
      "|  apple|       4399|\n",
      "|  bosch|       3483|\n",
      "|   sony|       2248|\n",
      "|     lg|       1974|\n",
      "|     hp|       1398|\n",
      "|philips|       1227|\n",
      "|polaris|       1171|\n",
      "| huawei|       1036|\n",
      "+-------+-----------+\n",
      "only showing top 10 rows\n",
      "\n"
     ]
    }
   ],
   "source": [
    "spark.sql('''\n",
    "select\n",
    "  brand, count(brand) AS count_brand\n",
    "from products\n",
    "group by brand\n",
    "ORDER BY count_brand  DESC\n",
    "''').show(10)\n"
   ]
  },
  {
   "cell_type": "markdown",
   "id": "473dfd0c",
   "metadata": {},
   "source": [
    "# What are the highest grossing products and brands ?"
   ]
  },
  {
   "cell_type": "code",
   "execution_count": 18,
   "id": "0aafd304",
   "metadata": {},
   "outputs": [
    {
     "name": "stdout",
     "output_type": "stream",
     "text": [
      "+----------+--------------------+\n",
      "|product_id|       total_revenue|\n",
      "+----------+--------------------+\n",
      "|   1005115|1.1340981057989848E9|\n",
      "|   1005105|  5.58946651429612E8|\n",
      "|   1005135| 4.050233686803127E8|\n",
      "|   1005116| 3.459620452602164E8|\n",
      "|   1004767| 3.169759184599301E8|\n",
      "|   1004249| 2.927087901905449E8|\n",
      "|   1004856|2.4265863417013538E8|\n",
      "|   1004870| 2.385683392305557E8|\n",
      "|   1002544| 2.117716547197075E8|\n",
      "|   1005129|1.6546518812991145E8|\n",
      "+----------+--------------------+\n",
      "only showing top 10 rows\n",
      "\n"
     ]
    }
   ],
   "source": [
    "spark.sql('''\n",
    "select\n",
    "  p.product_id, sum(p.price) as total_revenue\n",
    "from products as p\n",
    "left join events as e on p.product_id = e.product_id\n",
    "where e.event_type = \"purchase\"\n",
    "group by p.product_id\n",
    "ORDER BY SUM(p.price) DESC\n",
    "''').show(3)"
   ]
  },
  {
   "cell_type": "code",
   "execution_count": 28,
   "id": "8e324cd5",
   "metadata": {},
   "outputs": [
    {
     "name": "stdout",
     "output_type": "stream",
     "text": [
      "+--------+--------------------+\n",
      "|   brand|       total_revenue|\n",
      "+--------+--------------------+\n",
      "|   apple| 5.439634138695442E9|\n",
      "| samsung|2.0419447756527982E9|\n",
      "|  xiaomi| 4.636368421698097E8|\n",
      "|  huawei| 1.841406506499868E8|\n",
      "|      lg| 7.391041067999822E7|\n",
      "|    sony|3.7825916060000986E7|\n",
      "|    oppo|2.6012030710000783E7|\n",
      "|   artel| 2.491140440000656E7|\n",
      "|    acer| 2.304527395999945E7|\n",
      "|   bosch| 1.570311451000006E7|\n",
      "|  lenovo| 1.398878022000004E7|\n",
      "| indesit|1.2443717180000056E7|\n",
      "|    beko|    9721496.09000004|\n",
      "|  navien|   9102265.089999808|\n",
      "|    asus|   6982373.899999894|\n",
      "|dauscher|    6285338.72999997|\n",
      "|   midea|   5317062.529999789|\n",
      "|      hp|   4564293.309999909|\n",
      "|  janome|   4449710.939999945|\n",
      "| karcher|   4431845.360000005|\n",
      "+--------+--------------------+\n",
      "only showing top 20 rows\n",
      "\n"
     ]
    }
   ],
   "source": [
    "spark.sql('''\n",
    "select\n",
    "  p.brand, sum(p.price) as total_revenue\n",
    "from products as p\n",
    "left join events as e on p.product_id = e.product_id\n",
    "where e.event_type = \"purchase\" and p.brand is not null\n",
    "group by p.brand\n",
    "ORDER BY SUM(p.price) DESC\n",
    "''').show()"
   ]
  },
  {
   "cell_type": "code",
   "execution_count": 25,
   "id": "9b86dab7",
   "metadata": {},
   "outputs": [
    {
     "name": "stdout",
     "output_type": "stream",
     "text": [
      "+----------+-----+-------------+\n",
      "|product_id|brand|main_category|\n",
      "+----------+-----+-------------+\n",
      "|   1005135|apple|  electronics|\n",
      "|   1005105|apple|  electronics|\n",
      "|   1005115|apple|  electronics|\n",
      "+----------+-----+-------------+\n",
      "\n"
     ]
    }
   ],
   "source": [
    "spark.sql('''\n",
    "select distinct product_id, brand, main_category\n",
    "from products\n",
    "where product_id = 1005115 or product_id = 1005105 or product_id = 1005135\n",
    "''').show()"
   ]
  },
  {
   "cell_type": "markdown",
   "id": "f9c6f393",
   "metadata": {},
   "source": [
    "# What are the brands with the highest average conversion rates ? "
   ]
  },
  {
   "cell_type": "code",
   "execution_count": 26,
   "id": "184afc7b",
   "metadata": {},
   "outputs": [
    {
     "name": "stdout",
     "output_type": "stream",
     "text": [
      "+----------------+---------------------+\n",
      "|           brand|conversion_rate_brand|\n",
      "+----------------+---------------------+\n",
      "|          zvezda|   0.3333333333333333|\n",
      "|     pixiebelles|                 0.25|\n",
      "|        yoshioki|  0.22802197802197804|\n",
      "|          kayser|                  0.2|\n",
      "|           denso|                  0.2|\n",
      "|           jetem|                  0.2|\n",
      "|          yokito|   0.1989247311827957|\n",
      "|           lamel|  0.18181818181818182|\n",
      "|           freya|   0.1715686274509804|\n",
      "|       superfine|  0.16666666666666666|\n",
      "|           vasin|  0.16260987153482082|\n",
      "|      florentina|  0.15512820512820513|\n",
      "|           eksmo|  0.15269663916813578|\n",
      "|           moose|  0.14583333333333334|\n",
      "|           qplay|  0.14285714285714285|\n",
      "|          kumano|  0.13392857142857142|\n",
      "|  prajm-evroznak|                0.125|\n",
      "|        likebook|                0.125|\n",
      "|alexandermcqueen|                0.125|\n",
      "|          vasden|                0.125|\n",
      "+----------------+---------------------+\n",
      "only showing top 20 rows\n",
      "\n"
     ]
    }
   ],
   "source": [
    "products.groupBy('brand').agg(mean('conversion_rate').alias('conversion_rate_brand')).orderBy('conversion_rate_brand', ascending=False).show()"
   ]
  },
  {
   "cell_type": "markdown",
   "id": "5b15d1f4",
   "metadata": {},
   "source": [
    "# Average order value"
   ]
  },
  {
   "cell_type": "code",
   "execution_count": 34,
   "id": "b981c409",
   "metadata": {},
   "outputs": [
    {
     "name": "stdout",
     "output_type": "stream",
     "text": [
      "773214\n"
     ]
    }
   ],
   "source": [
    "# total number of orders\n",
    "number_orders = df.filter(df['event_type']==\"purchase\").select(countDistinct(\"user_session\")).collect()[0][0]\n",
    "print(number_orders)"
   ]
  },
  {
   "cell_type": "code",
   "execution_count": 38,
   "id": "dcfeb72b",
   "metadata": {},
   "outputs": [
    {
     "name": "stdout",
     "output_type": "stream",
     "text": [
      "275194890.4999921\n"
     ]
    }
   ],
   "source": [
    "# total revenue\n",
    "total_revenue = df.filter(df['event_type']==\"purchase\").agg(sum('price')).collect()[0][0]\n",
    "print(total_revenue)"
   ]
  },
  {
   "cell_type": "code",
   "execution_count": 40,
   "id": "9777467f",
   "metadata": {},
   "outputs": [
    {
     "name": "stdout",
     "output_type": "stream",
     "text": [
      "355.9103825072904\n"
     ]
    }
   ],
   "source": [
    "average_order_value = total_revenue/number_orders\n",
    "print(average_order_value)"
   ]
  },
  {
   "cell_type": "markdown",
   "id": "26d6d972",
   "metadata": {},
   "source": [
    "# Average number of items per order"
   ]
  },
  {
   "cell_type": "code",
   "execution_count": 45,
   "id": "425076a3",
   "metadata": {},
   "outputs": [
    {
     "name": "stdout",
     "output_type": "stream",
     "text": [
      "+--------------------+------------+\n",
      "|        user_session|number_items|\n",
      "+--------------------+------------+\n",
      "|6dceba3d-f2be-4a0...|           1|\n",
      "|5a335441-d095-4de...|           1|\n",
      "|f95850c8-4618-428...|           1|\n",
      "|e701954f-6f16-48e...|           1|\n",
      "|0a25d210-9e7e-4d0...|           1|\n",
      "|53583d8e-c026-433...|           1|\n",
      "|01bb1857-393f-456...|           1|\n",
      "|77b1d2b6-a3b8-4ee...|           3|\n",
      "|e929197c-e1be-44d...|           1|\n",
      "|c2cae34d-ef2c-428...|           1|\n",
      "|ed68b468-8f3f-450...|           1|\n",
      "|2f49325e-57e2-4fe...|           1|\n",
      "|3779910e-a0e2-436...|           1|\n",
      "|3191f50b-88bb-471...|           1|\n",
      "|87cd2b19-5644-48b...|           2|\n",
      "|d2eeaf0b-f683-404...|           2|\n",
      "|9629a3c3-c6ad-408...|           1|\n",
      "|1ab43d26-65b7-465...|           1|\n",
      "|218ca27d-8339-4d6...|           1|\n",
      "|1667d4a3-2194-46c...|           1|\n",
      "+--------------------+------------+\n",
      "only showing top 20 rows\n",
      "\n"
     ]
    }
   ],
   "source": [
    "#df.filter(df['event_type']==\"purchase\").groupBy('user_session').agg(count('product_id').alias('number_items')).show()"
   ]
  },
  {
   "cell_type": "code",
   "execution_count": 47,
   "id": "bbfc792e",
   "metadata": {},
   "outputs": [
    {
     "name": "stdout",
     "output_type": "stream",
     "text": [
      "+------------------+\n",
      "| mean_number_items|\n",
      "+------------------+\n",
      "|1.1858799763066887|\n",
      "+------------------+\n",
      "\n"
     ]
    }
   ],
   "source": [
    "df.filter(df['event_type']==\"purchase\").groupBy('user_session').agg(count('product_id').alias('number_items')).select(mean('number_items').alias('mean_number_items')).show()"
   ]
  }
 ],
 "metadata": {
  "kernelspec": {
   "display_name": "Python 3 (ipykernel)",
   "language": "python",
   "name": "python3"
  },
  "language_info": {
   "codemirror_mode": {
    "name": "ipython",
    "version": 3
   },
   "file_extension": ".py",
   "mimetype": "text/x-python",
   "name": "python",
   "nbconvert_exporter": "python",
   "pygments_lexer": "ipython3",
   "version": "3.9.12"
  }
 },
 "nbformat": 4,
 "nbformat_minor": 5
}
